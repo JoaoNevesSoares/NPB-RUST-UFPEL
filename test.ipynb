{
 "cells": [
  {
   "cell_type": "code",
   "execution_count": 1,
   "id": "86fe3581",
   "metadata": {},
   "outputs": [],
   "source": [
    "import matplotlib.pyplot as plt\n",
    "import glob\n",
    "import os\n",
    "#import pandas as pd\n",
    "import statistics as st"
   ]
  },
  {
   "cell_type": "code",
   "execution_count": 2,
   "id": "9b17fbb2",
   "metadata": {},
   "outputs": [],
   "source": [
    "LINE_CLASS = 20\n",
    "LINE_TIME = 23\n",
    "RESULTS_PATH = \"./results\""
   ]
  },
  {
   "cell_type": "code",
   "execution_count": 3,
   "id": "ee9dd072",
   "metadata": {},
   "outputs": [],
   "source": [
    "filenames = glob.glob(os.path.join(RESULTS_PATH, \"*\"))"
   ]
  },
  {
   "cell_type": "code",
   "execution_count": null,
   "id": "37cb8305",
   "metadata": {},
   "outputs": [],
   "source": [
    "for filename in filenames:\n",
    "    result_program = filename.split(\"/\")[-1].split(\".\")[0]\n",
    "    result_class = filename.split(\"/\")[-1].split(\".\")[1]\n",
    "    result_num_threads = int(filename.split(\"/\")[-1].split(\".\")[2])\n",
    "    result_id = int(filename.split(\"/\")[-1].split(\".\")[3])\n",
    "    text = \"\"\n",
    "    with open(filename, \"r\") as reader:\n",
    "        text = reader.read()\n",
    "        \n",
    "    text = text.split(\"\\n\")\n",
    "    result_time = float(text[LINE_TIME].split(\"=\")[-1].strip())\n",
    "    #results[result_program].update({result_class:{result_num_threads:{result_id:result_time}}})\n",
    "    #results[result_program][result_class].update({result_num_threads:{}})\n",
    "    results[result_program][result_class][result_num_threads].update({result_id:result_time})"
   ]
  },
  {
   "cell_type": "code",
   "execution_count": null,
   "id": "d9654c67",
   "metadata": {},
   "outputs": [],
   "source": [
    "#x_serial = list(results['ep'].keys())\n",
    "#y_serial = list(results['ep'].values())\n",
    "x_pp = list(results['ep-pp'][\"S\"][8].keys())\n",
    "y_pp = list(results['ep-pp'][\"S\"][8].values())"
   ]
  },
  {
   "cell_type": "code",
   "execution_count": null,
   "id": "21fe66fb",
   "metadata": {},
   "outputs": [],
   "source": [
    "y_min = min(y_pp)\n",
    "y_max = max(y_pp)\n",
    "margin = 0.025\n",
    "\n",
    "plt.scatter(x_pp, y_pp)\n",
    "#plt.ylim([0.3, 0.4])\n",
    "#plt.ylim([2.15, 2.25])\n",
    "plt.ylim([y_min * (1-margin), y_max * (1+margin)])\n",
    "plt.show()"
   ]
  },
  {
   "cell_type": "code",
   "execution_count": null,
   "id": "2b239727",
   "metadata": {},
   "outputs": [],
   "source": [
    "makespan_serial = st.mean(y_serial)\n",
    "makespan_parallel = st.mean(y_pp)"
   ]
  },
  {
   "cell_type": "code",
   "execution_count": null,
   "id": "8cbe319e",
   "metadata": {},
   "outputs": [],
   "source": [
    "makespan_parallel"
   ]
  }
 ],
 "metadata": {
  "kernelspec": {
   "display_name": "Python 3 (ipykernel)",
   "language": "python",
   "name": "python3"
  },
  "language_info": {
   "codemirror_mode": {
    "name": "ipython",
    "version": 3
   },
   "file_extension": ".py",
   "mimetype": "text/x-python",
   "name": "python",
   "nbconvert_exporter": "python",
   "pygments_lexer": "ipython3",
   "version": "3.10.6"
  }
 },
 "nbformat": 4,
 "nbformat_minor": 5
}
